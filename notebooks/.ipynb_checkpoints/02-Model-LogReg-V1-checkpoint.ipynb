{
 "cells": [
  {
   "cell_type": "markdown",
   "id": "e71835d1-9525-481b-a9aa-419d283bab71",
   "metadata": {},
   "source": [
    "# Project: Random Acts of Pizza - Baseline\n",
    "## Team: Arriaga, Carolina and Mahajan, Kanika\n",
    "\n",
    "## Objective\n",
    "Create a baseline model to classify if a user request in the subreddit Random Acts of Pizza will get a positive/negative fulfillment.\n",
    "\n",
    "Positive: User gets a pizza.\n",
    "\n",
    "Negative: User doesn't get a pizza."
   ]
  },
  {
   "cell_type": "markdown",
   "id": "035e074c-9355-43df-b783-e64e5cbf8a33",
   "metadata": {},
   "source": [
    "## Data Transformation\n",
    "\n",
    "Let's review the approapiate transformation for the variables of internest (data obtained from data process notebook).\n",
    "\n",
    "### Outcome variable - True False\n",
    "**y** = requester_received_pizza\n",
    "\n",
    "\n",
    "### Independent variables\n",
    "**Post upvotes** = number_of_upvotes_of_request_at_retrieval - number_of_downvotes_of_request_at_retrieval\n",
    "\n",
    "**Text length (word count)** = count(request_text)\n",
    "\n",
    "**Text compound sentiment** = sentiment function (request_text)\n",
    "\n",
    "**Title length (word count)** = count (request_title)\n",
    "\n",
    "**Title sentiment** = sentiment function (request_title)\n",
    "\n",
    "**Days since request** = requester_days_since_first_post_on_raop_at_retrieval - requester_days_since_first_post_on_raop_at_request\n",
    "\n",
    "**User subs on (count of subreddits)** = requester_number_of_subreddits_at_request\n",
    "\n",
    "**User activity comments** = requester_number_of_comments_at_retrieval - requester_number_of_comments_at_request\n",
    "\n",
    "**User activity comments raop** = requester_number_of_comments_in_raop_at_retrieval - requester_number_of_comments_in_raop_at_request\n",
    "\n",
    "**User posts reddit** = requester_number_of_posts_at_retrieval - requester_number_of_posts_at_request\n",
    "\n",
    "**User posts raop** = requester_number_of_posts_on_raop_at_retrieval - requester_number_of_posts_on_raop_at_request\n",
    "\n",
    "**Comment count** = request_number_of_comments_at_retrieval \n",
    "\n",
    "**User rate start** = requester_upvotes_plus_downvotes_at_request / requester_upvotes_plus_downvotes_at_request\n",
    "\n",
    "**User rate end** = requester_upvotes_minus_downvotes_at_retrieval / requester_upvotes_plus_downvotes_at_retrieval\n",
    "\n",
    "**Account age (days)** = requester_account_age_in_days_at_retrieval\n",
    "\n",
    "Unused variables:\n",
    "- post_was_edited\n",
    "- request_id\n",
    "- request_text_edit_aware\n",
    "- unix_timestamp_of_request\n",
    "- unix_timestamp_of_request_utc\n",
    "\n",
    "Requester info unused vairables:\n",
    "- requester_account_age_in_days_at_request\n",
    "- requester_subreddits_at_request\n",
    "- requester_upvotes_minus_downvotes_at_request\n",
    "- requester_user_flair\n",
    "- requester_username\n"
   ]
  },
  {
   "cell_type": "markdown",
   "id": "6ee3be13-baf9-4791-a998-3604f398d500",
   "metadata": {},
   "source": [
    "# Model Preparation\n",
    "\n",
    "Now that we have the data pipeline ready, we can create our logistic regression model."
   ]
  },
  {
   "cell_type": "code",
   "execution_count": 5,
   "id": "07ec27ac-7d91-46b7-b6ae-c918460fcec0",
   "metadata": {},
   "outputs": [],
   "source": [
    "# This tells matplotlib not to try opening a new window for each plot.\n",
    "%matplotlib inline\n",
    "\n",
    "# Data manipulation\n",
    "import matplotlib.pyplot as plt\n",
    "import numpy as np\n",
    "import pandas as pd\n",
    "\n",
    "# ML Scikit\n",
    "## Decision Trees\n",
    "from sklearn import tree\n",
    "from sklearn.tree import DecisionTreeClassifier\n",
    "from sklearn.ensemble import RandomForestClassifier \n",
    "from sklearn.ensemble import AdaBoostClassifier \n",
    "\n",
    "# Regression model\n",
    "from sklearn.linear_model import LinearRegression\n",
    "from sklearn.linear_model import LogisticRegression\n",
    "\n",
    "# KNN Model\n",
    "from sklearn.neighbors import KNeighborsClassifier\n",
    "from sklearn.neighbors import KNeighborsRegressor\n",
    "\n",
    "# Feature handling\n",
    "from sklearn.model_selection import train_test_split\n",
    "\n",
    "# Reports\n",
    "from sklearn.metrics import confusion_matrix\n",
    "from sklearn.metrics import classification_report\n",
    "from sklearn import metrics\n",
    "\n",
    "# For producing decision tree diagrams.\n",
    "from IPython.core.display import Image, display\n",
    "from six import StringIO\n",
    "\n",
    "#Visualizing Confusion Matrix using Heatmap\n",
    "import seaborn as sns"
   ]
  },
  {
   "cell_type": "code",
   "execution_count": 6,
   "id": "25f44c36-0914-450b-97d5-a9a7df686e13",
   "metadata": {},
   "outputs": [],
   "source": [
    "# ?LogisticRegression"
   ]
  },
  {
   "cell_type": "markdown",
   "id": "71f775f6-ef99-455c-93c5-3c4b9a8834fb",
   "metadata": {},
   "source": [
    "## Quick EDA\n",
    "\n",
    "We ran a quick scatterplot to see relationships between variables. We believe the relationship is linear and that's a reason why we think a Logistic Regression might be a good model. Let's run a check."
   ]
  },
  {
   "cell_type": "code",
   "execution_count": 7,
   "id": "df316e35-ffa9-4d80-8f5e-7386e62038d0",
   "metadata": {},
   "outputs": [
    {
     "data": {
      "text/plain": [
       "post_was_edited                0\n",
       "post_upvotes                   0\n",
       "text_word_count                0\n",
       "text_sentiment                 0\n",
       "title_word_count               0\n",
       "title_sentiment                0\n",
       "days_since_request             0\n",
       "user_activity_comments         0\n",
       "user_activity_comments_raop    0\n",
       "user_posts_reddit              0\n",
       "user_posts_raop                0\n",
       "user_rate_start                0\n",
       "user_rate_end                  0\n",
       "requester_received_pizza       0\n",
       "dtype: int64"
      ]
     },
     "execution_count": 7,
     "metadata": {},
     "output_type": "execute_result"
    }
   ],
   "source": [
    "# load the data\n",
    "df = pd.read_csv('../data/interim/logit_sentiments.csv')\n",
    "# scatter_matrix(raop, alpha=0.2, figsize=(20, 20), diagonal='hist')\n",
    "\n",
    "#Missing data (looks good)\n",
    "df.isnull().sum()"
   ]
  },
  {
   "cell_type": "markdown",
   "id": "257841db-87d0-43aa-a471-2783fbe3ae47",
   "metadata": {},
   "source": [
    "## Data Handling\n",
    "\n",
    "Now will separate variables, randomize and split our test sets to fit our model."
   ]
  },
  {
   "cell_type": "code",
   "execution_count": 8,
   "id": "6b008b46-3058-4f19-ac83-2ed169fa4895",
   "metadata": {},
   "outputs": [],
   "source": [
    "# Data Handling for Model\n",
    "\n",
    "X, Y = df.iloc[:,:-1], df.iloc[:,-1]\n",
    "\n",
    "# Shuffle the data, but make sure that the features and accompanying labels stay in sync.\n",
    "np.random.seed(0)\n",
    "shuffle = np.random.permutation(np.arange(X.shape[0]))\n",
    "X, Y = X.iloc[shuffle], Y.iloc[shuffle]\n",
    "\n",
    "# Split into train and test.\n",
    "# train_data, train_labels = X[:350], Y[:350]\n",
    "# test_data, test_labels = X[350:], Y[350:]\n",
    "X_train, X_test, y_train, y_test = train_test_split(X, Y, test_size=0.25, random_state=1)\n",
    "X_dev, X_test, y_dev, y_test = train_test_split(X_test, y_test, test_size=0.4, random_state=1)\n"
   ]
  },
  {
   "cell_type": "code",
   "execution_count": 9,
   "id": "5a408ffa-9117-44fc-96cb-9cd49ff0e62b",
   "metadata": {},
   "outputs": [
    {
     "name": "stdout",
     "output_type": "stream",
     "text": [
      "Train X,y -  (3030, 13)   (3030,)\n",
      "Dev X,y   -   (606, 13)    (606,)\n",
      "Test X,y  -   (404, 13)    (404,)\n",
      "Total:  4040\n"
     ]
    }
   ],
   "source": [
    "# Let's see the different tests\n",
    "\n",
    "print(\"Train X,y - \", X_train.shape, \" \", y_train.shape)\n",
    "print(\"Dev X,y   -  \", X_dev.shape, \"  \", y_dev.shape)\n",
    "print(\"Test X,y  -  \", X_test.shape, \"  \", y_test.shape)\n",
    "print(\"Total: \", X_train.shape[0] + X_dev.shape[0] +  X_test.shape[0])"
   ]
  },
  {
   "cell_type": "markdown",
   "id": "6a52b387-e38a-4f8c-9fe8-2ad95cb444e1",
   "metadata": {},
   "source": [
    "## Model 1: Logistic Regression"
   ]
  },
  {
   "cell_type": "code",
   "execution_count": 10,
   "id": "19a67ce4-4341-4d69-b45f-2dfd6503adc5",
   "metadata": {},
   "outputs": [
    {
     "name": "stdout",
     "output_type": "stream",
     "text": [
      "              precision    recall  f1-score   support\n",
      "\n",
      "       False       0.86      0.94      0.90       455\n",
      "        True       0.75      0.52      0.62       151\n",
      "\n",
      "    accuracy                           0.84       606\n",
      "   macro avg       0.80      0.73      0.76       606\n",
      "weighted avg       0.83      0.84      0.83       606\n",
      "\n",
      "Accuracy for Logistic regression model is 0.84\n"
     ]
    }
   ],
   "source": [
    "# fit model\n",
    "lr_model = LogisticRegression(max_iter= 1000, solver='liblinear')\n",
    "lr_model.fit(X_train, y_train)\n",
    "\n",
    "# predictions\n",
    "y_pred = lr_model.predict(X_dev)\n",
    "\n",
    "# results\n",
    "cnf_matrix = metrics.confusion_matrix(y_dev, y_pred)\n",
    "# print(cnf_matrix)\n",
    "print(classification_report(y_dev, y_pred))\n",
    "report_log = classification_report(y_dev, y_pred, output_dict=True)\n",
    "print(\"Accuracy for Logistic regression model is\", round(report_log['accuracy'],2))\n",
    "\n",
    "# Weights to discuss feature selection\n",
    "# coef = lr_model.coef_[0]\n",
    "# print(coef, X_train.columns)"
   ]
  },
  {
   "cell_type": "code",
   "execution_count": 11,
   "id": "a7233a0a-2170-403c-861b-3a5102f78f23",
   "metadata": {},
   "outputs": [
    {
     "data": {
      "text/plain": [
       "Text(0.5, 257.44, 'Predicted label')"
      ]
     },
     "execution_count": 11,
     "metadata": {},
     "output_type": "execute_result"
    },
    {
     "data": {
      "image/png": "[encoded data removed]",
      "text/plain": [
       "<Figure size 432x288 with 2 Axes>"
      ]
     },
     "metadata": {
      "needs_background": "light"
     },
     "output_type": "display_data"
    }
   ],
   "source": [
    "#Visualizing Confusion Matrix using Heatmap\n",
    "class_names=[0,1] # name  of classes\n",
    "fig, ax = plt.subplots()\n",
    "tick_marks = np.arange(len(class_names))\n",
    "plt.xticks(tick_marks, class_names)\n",
    "plt.yticks(tick_marks, class_names)\n",
    "# create heatmap\n",
    "sns.heatmap(pd.DataFrame(cnf_matrix), annot=True, cmap=\"YlGnBu\" ,fmt='g')\n",
    "ax.xaxis.set_label_position(\"top\")\n",
    "plt.tight_layout()\n",
    "plt.title('Confusion matrix', y=1.1)\n",
    "plt.ylabel('Actual label')\n",
    "plt.xlabel('Predicted label')"
   ]
  },
  {
   "cell_type": "markdown",
   "id": "667880ce-0d6f-4ae7-9c2c-230bdfe662f8",
   "metadata": {},
   "source": [
    "## Model 2: KNN "
   ]
  },
  {
   "cell_type": "code",
   "execution_count": 12,
   "id": "371b8d7e-748a-4f74-8aea-46d003c7ecea",
   "metadata": {},
   "outputs": [
    {
     "name": "stdout",
     "output_type": "stream",
     "text": [
      "              precision    recall  f1-score   support\n",
      "\n",
      "       False       0.75      0.93      0.83       455\n",
      "        True       0.29      0.09      0.13       151\n",
      "\n",
      "    accuracy                           0.72       606\n",
      "   macro avg       0.52      0.51      0.48       606\n",
      "weighted avg       0.64      0.72      0.66       606\n",
      "\n",
      "Accuracy for Logistic regression model is 0.72\n"
     ]
    }
   ],
   "source": [
    "# Fit K-NN classifier\n",
    "classifier = KNeighborsClassifier(n_neighbors=7)\n",
    "classifier.fit(X_train, y_train)\n",
    "\n",
    "# Predictions\n",
    "y_pred = classifier.predict(X_dev)\n",
    "\n",
    "# Results\n",
    "# results\n",
    "cnf_matrix = metrics.confusion_matrix(y_dev, y_pred)\n",
    "# print(cnf_matrix)\n",
    "print(classification_report(y_dev, y_pred))\n",
    "report_log = classification_report(y_dev, y_pred, output_dict=True)\n",
    "print(\"Accuracy for Logistic regression model is\", round(report_log['accuracy'],2))\n"
   ]
  },
  {
   "cell_type": "code",
   "execution_count": 13,
   "id": "34c461a9-945a-45f6-b7a1-8dcf327fa8eb",
   "metadata": {},
   "outputs": [
    {
     "data": {
      "text/plain": [
       "Text(0.5, 257.44, 'Predicted label')"
      ]
     },
     "execution_count": 13,
     "metadata": {},
     "output_type": "execute_result"
    },
    {
     "data": {
      "image/png": "[encoded data removed]",
      "text/plain": [
       "<Figure size 432x288 with 2 Axes>"
      ]
     },
     "metadata": {
      "needs_background": "light"
     },
     "output_type": "display_data"
    }
   ],
   "source": [
    "#Visualizing Confusion Matrix using Heatmap\n",
    "class_names=[0,1] # name  of classes\n",
    "fig, ax = plt.subplots()\n",
    "tick_marks = np.arange(len(class_names))\n",
    "plt.xticks(tick_marks, class_names)\n",
    "plt.yticks(tick_marks, class_names)\n",
    "# create heatmap\n",
    "sns.heatmap(pd.DataFrame(cnf_matrix), annot=True, cmap=\"YlGnBu\" ,fmt='g')\n",
    "ax.xaxis.set_label_position(\"top\")\n",
    "plt.tight_layout()\n",
    "plt.title('Confusion matrix', y=1.1)\n",
    "plt.ylabel('Actual label')\n",
    "plt.xlabel('Predicted label')"
   ]
  },
  {
   "cell_type": "markdown",
   "id": "c724be79-8375-482a-a0de-b5fa83e731db",
   "metadata": {},
   "source": [
    "## Model 3: Random Forest"
   ]
  },
  {
   "cell_type": "code",
   "execution_count": 14,
   "id": "ca067d9b-a40c-4195-9b01-f73c7b36d07d",
   "metadata": {},
   "outputs": [
    {
     "name": "stdout",
     "output_type": "stream",
     "text": [
      "Accuracy (a decision tree): 0.7557755775577558\n",
      "Accuracy (a random forest): 0.8217821782178217\n",
      "Accuracy (adaboost with decision trees): 0.83003300330033\n"
     ]
    }
   ],
   "source": [
    "dt = DecisionTreeClassifier(criterion=\"entropy\", splitter=\"best\", random_state=0)\n",
    "dt.fit(X_train, y_train)\n",
    "\n",
    "print ('Accuracy (a decision tree):', dt.score(X_dev, y_dev))\n",
    "\n",
    "rfc = RandomForestClassifier(n_estimators=20, max_depth=4)\n",
    "rfc.fit(X_train, y_train)\n",
    "\n",
    "print ('Accuracy (a random forest):', rfc.score(X_dev, y_dev))\n",
    "\n",
    "abc = AdaBoostClassifier(base_estimator=DecisionTreeClassifier(max_depth=1), n_estimators=50, learning_rate=0.1)\n",
    "\n",
    "abc.fit(X_train, y_train)\n",
    "print ('Accuracy (adaboost with decision trees):', abc.score(X_dev, y_dev))\n",
    "\n"
   ]
  },
  {
   "cell_type": "markdown",
   "id": "babb3e42-a8b3-4b7c-abe2-5f7fd1ac4936",
   "metadata": {},
   "source": [
    "# Baseline model Selection\n",
    "\n",
    "We chose as a baseline model the Model 1: Logistic Regression because it has the highest accuracy compared to Model 2 and Model 3. We will focus on optimization of Model 1 in the future."
   ]
  },
  {
   "cell_type": "markdown",
   "id": "dd04646f-774a-481c-9b8e-c44e00134b92",
   "metadata": {},
   "source": [
    "# Next steps\n",
    "\n",
    "- Merge data setps: Kanika will provide the word frequencies for the most frequent words (goal: reduce amount of features), include \"context\" in the word frequency, timestamp analysis, username analysis.\n",
    "- Add reference articles to the Reference section md: Caro and Kanika\n",
    "- Explore Binarization and unused variables to see impact in accuracy, remove and record variables with low weight from the analysis: Carolina\n",
    "- Merge csv from Kanika with Caro and run regression again, ping Kanika and resync: Caro\n"
   ]
  }
 ],
 "metadata": {
  "kernelspec": {
   "display_name": "Python 3",
   "language": "python",
   "name": "python3"
  },
  "language_info": {
   "codemirror_mode": {
    "name": "ipython",
    "version": 3
   },
   "file_extension": ".py",
   "mimetype": "text/x-python",
   "name": "python",
   "nbconvert_exporter": "python",
   "pygments_lexer": "ipython3",
   "version": "3.8.8"
  }
 },
 "nbformat": 4,
 "nbformat_minor": 5
}
