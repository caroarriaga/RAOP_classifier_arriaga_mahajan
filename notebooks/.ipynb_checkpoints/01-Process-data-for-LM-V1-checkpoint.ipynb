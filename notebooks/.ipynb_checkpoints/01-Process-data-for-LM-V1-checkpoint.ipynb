{
 "cells": [
  {
   "cell_type": "markdown",
   "id": "6bb3ae06-635c-4887-9c74-d6369ed9bad0",
   "metadata": {},
   "source": [
    "# Processing data for linear regression\n",
    "\n",
    "This notebook will transform data from a JSON file format submitted in the Kaggle competition Random Acts of Pizza and transform it into a dataframe that will include all features of itnerest to perform a linear regression and predict who will get a pizza or not.\n",
    "\n",
    "## Steps to cover\n",
    "\n",
    "1. Data exploration\n",
    "2. Feature selection\n",
    "3. Data Wrangling\n",
    "4. Output file"
   ]
  },
  {
   "cell_type": "markdown",
   "id": "31b5be39-b0b5-4eb5-b9cc-e962e2cebc37",
   "metadata": {},
   "source": [
    "# Data exploration\n",
    "\n",
    "Data is presented in two JSON file sets: train and test. The test data includes the outcome of interest \"requester received pizza\" plus a ton of other interesting information that we can use to predict. Let's look at the data."
   ]
  },
  {
   "cell_type": "code",
   "execution_count": 4,
   "id": "4c4357ab-2e7c-4d88-95b2-9c5523f6a55f",
   "metadata": {},
   "outputs": [],
   "source": [
    "# First let's import libraries of interest\n",
    "import json\n",
    "import pandas as pd"
   ]
  },
  {
   "cell_type": "code",
   "execution_count": 16,
   "id": "7563ae8b-fc26-42f9-9e66-38195114d0c2",
   "metadata": {},
   "outputs": [
    {
     "name": "stdout",
     "output_type": "stream",
     "text": [
      "{\n",
      "    \"giver_username_if_known\": \"N/A\",\n",
      "    \"number_of_downvotes_of_request_at_retrieval\": 2,\n",
      "    \"number_of_upvotes_of_request_at_retrieval\": 5,\n",
      "    \"post_was_edited\": false,\n",
      "    \"request_id\": \"t3_rcb83\",\n",
      "    \"request_number_of_comments_at_retrieval\": 0,\n",
      "    \"request_text\": \"I spent the last money I had on gas today. Im broke until next Thursday :(\",\n",
      "    \"request_text_edit_aware\": \"I spent the last money I had on gas today. Im broke until next Thursday :(\",\n",
      "    \"request_title\": \"[Request] California, No cash and I could use some dinner\",\n",
      "    \"requester_account_age_in_days_at_request\": 501.11109953703703,\n",
      "    \"requester_account_age_in_days_at_retrieval\": 1122.279837962963,\n",
      "    \"requester_days_since_first_post_on_raop_at_request\": 0.0,\n",
      "    \"requester_days_since_first_post_on_raop_at_retrieval\": 621.1270717592593,\n",
      "    \"requester_number_of_comments_at_request\": 0,\n",
      "    \"requester_number_of_comments_at_retrieval\": 1000,\n",
      "    \"requester_number_of_comments_in_raop_at_request\": 0,\n",
      "    \"requester_number_of_comments_in_raop_at_retrieval\": 0,\n",
      "    \"requester_number_of_posts_at_request\": 15,\n",
      "    \"requester_number_of_posts_at_retrieval\": 26,\n",
      "    \"requester_number_of_posts_on_raop_at_request\": 0,\n",
      "    \"requester_number_of_posts_on_raop_at_retrieval\": 2,\n",
      "    \"requester_number_of_subreddits_at_request\": 12,\n",
      "    \"requester_received_pizza\": false,\n",
      "    \"requester_subreddits_at_request\": [\n",
      "        \"AskReddit\",\n",
      "        \"Eve\",\n",
      "        \"IAmA\",\n",
      "        \"MontereyBay\",\n",
      "        \"RandomKindness\",\n",
      "        \"RedditBiography\",\n",
      "        \"dubstep\",\n",
      "        \"gamecollecting\",\n",
      "        \"gaming\",\n",
      "        \"halo\",\n",
      "        \"i18n\",\n",
      "        \"techsupport\"\n",
      "    ],\n",
      "    \"requester_upvotes_minus_downvotes_at_request\": 34,\n",
      "    \"requester_upvotes_minus_downvotes_at_retrieval\": 4258,\n",
      "    \"requester_upvotes_plus_downvotes_at_request\": 116,\n",
      "    \"requester_upvotes_plus_downvotes_at_retrieval\": 11168,\n",
      "    \"requester_user_flair\": null,\n",
      "    \"requester_username\": \"fohacidal\",\n",
      "    \"unix_timestamp_of_request\": 1332652424.0,\n",
      "    \"unix_timestamp_of_request_utc\": 1332648824.0\n",
      "}\n"
     ]
    }
   ],
   "source": [
    "with open(\"../data/external/train.json\") as f:\n",
    "    data = json.load(f)\n",
    "print(json.dumps(data[1], indent=4, sort_keys=True))"
   ]
  },
  {
   "cell_type": "markdown",
   "id": "6b5495e0-1883-4ea0-962a-e31a9dc4fa02",
   "metadata": {},
   "source": [
    "## What does it mean?\n",
    "\n",
    "For those who are not familiar with Reddit and Random Acts of Pizza (I wasn't familiar either when I started the project), I present to you how this data looks like in their site. Not all the information appearing in here matches the information from the data, the reason is because there's more data available linked to the requester aside from the post itself. See figure 1 for reference.\n",
    "\n",
    "![raop-example](./figures/01-raop-1.png)"
   ]
  },
  {
   "cell_type": "markdown",
   "id": "df377bc8-040a-48ff-9e96-86e842740d2e",
   "metadata": {},
   "source": [
    "Looking at the data, what stands out to me the most is:\n",
    "- Upvotes/Downvotes\n",
    "- Number of comments\n",
    "- Time since publication\n",
    "- Some say thanks, but are not tagged as \"fulfilled\"\n",
    "\n",
    "Now let's look just to the single post to get the reference clearer.\n",
    "\n",
    "![raop-example](./figures/01-raop-2.png)"
   ]
  },
  {
   "cell_type": "markdown",
   "id": "58fd7327-62f2-420a-b31c-99adfe797520",
   "metadata": {},
   "source": [
    "Now inside the post we get to see some extra information, like the full title of the requester, the status (tagged as fulfilled) and the full post text. Additionally, the number of comments which can be read below the post that include the request status: who is willing to fulfill the request, how much money they are sending vs how much was actually sent, what pizza place, etc.\n",
    "\n",
    "What stands out most:\n",
    "- Title\n",
    "- Text\n",
    "- Upvotes\n",
    "- Percentage of upvoted\n",
    "- Number of comments\n",
    "- Days since posted\n",
    "- Tags (fulfilled, NSFW)"
   ]
  },
  {
   "cell_type": "markdown",
   "id": "060f303b-3e4e-483b-a2a4-eed0648fdb6f",
   "metadata": {},
   "source": [
    "Now, we have access to the requester information:\n",
    "- User subreddits\n",
    "- User edited the post\n",
    "- User flair"
   ]
  },
  {
   "cell_type": "markdown",
   "id": "98d1fa60-244b-40ee-9156-94c74a4c668c",
   "metadata": {},
   "source": [
    "## Feature selection\n",
    "\n",
    "In order to define the feature selection for our linear model we must choose features that are independent from each other and that we believe will be good predictors.\n",
    "\n",
    "These are the features of interest after exploring the information available and looking the the actual post examples:\n",
    "\n",
    "- Post upvotes\n",
    "- Text length (word count)\n",
    "- Text compound sentiment\n",
    "- Title lenth (word count)\n",
    "- Title sentiment\n",
    "- Days since request\n",
    "- User activity on redit (count of subreddits)\n",
    "- Comment count after average request time\n",
    "- User post's on redit at request (count)\n",
    "- User posts's on raop (count)\n",
    "- Account age (days)\n",
    "\n",
    "The response variable will be true or false."
   ]
  }
 ],
 "metadata": {
  "kernelspec": {
   "display_name": "Python 3",
   "language": "python",
   "name": "python3"
  },
  "language_info": {
   "codemirror_mode": {
    "name": "ipython",
    "version": 3
   },
   "file_extension": ".py",
   "mimetype": "text/x-python",
   "name": "python",
   "nbconvert_exporter": "python",
   "pygments_lexer": "ipython3",
   "version": "3.8.8"
  }
 },
 "nbformat": 4,
 "nbformat_minor": 5
}
